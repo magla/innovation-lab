{
 "cells": [
  {
   "cell_type": "code",
   "execution_count": 1,
   "id": "5c19a5ef-93ba-4e8f-8e0d-7d4234143df3",
   "metadata": {
    "editable": true,
    "slideshow": {
     "slide_type": ""
    },
    "tags": []
   },
   "outputs": [],
   "source": [
    "from PIL import Image\n",
    "import numpy as np\n",
    "import sys\n",
    "import os\n",
    "import csv\n",
    "import matplotlib.pyplot as plt\n",
    "\n",
    "# default format can be changed as needed\n",
    "def createFileList(myDir, format='.png'):\n",
    "    fileList = []\n",
    "    labels = []\n",
    "    names = []\n",
    "    keywords = {} # keys and values to be changed as needed\n",
    "    for root, dirs, files in os.walk(myDir, topdown=True):\n",
    "        for name in files:\n",
    "            if name.endswith(format):\n",
    "                fullName = os.path.join(root, name)\n",
    "                fileList.append(fullName)\n",
    "            for keyword in keywords:\n",
    "                if keyword in name:\n",
    "                    labels.append(keywords[keyword])\n",
    "                else:\n",
    "                    continue\n",
    "            names.append(name)\n",
    "    return fileList, labels, names\n",
    "# load the original image\n",
    "myFileList, labels, names  = createFileList('/Users/maggie/Code/innovation-lab/generator/images')\n",
    "\n",
    "i = 0\n",
    "\n",
    "for file in myFileList:\n",
    "    img_file = Image.open(file)\n",
    "    width, height = img_file.size\n",
    "    format = img_file.format\n",
    "    mode = img_file.mode\n",
    "    \n",
    "    img_grey = img_file.convert('L')\n",
    "    value = np.asarray(img_grey.getdata(), dtype=int).reshape((width, height))\n",
    "    value = value.flatten()\n",
    "\n",
    "    # Convert to NumPy array\n",
    "    image_array = np.array(img_grey)\n",
    "    \n",
    "    # Check the pixel value range\n",
    "    print(\"Pixel value range:\", image_array.min(), \"to\", image_array.max())    \n",
    "\n",
    "    plt.subplot(1, 2, 2)\n",
    "    plt.imshow(image_array.astype(\"uint8\"))\n",
    "    plt.title('Grayscale Image')\n",
    "    plt.axis('off')\n",
    "    \n",
    "    plt.show()\n",
    "\n",
    "    #value = np.append(value,labels[i])\n",
    "    i +=1\n",
    "    \n",
    "    with open(\"/Users/maggie/Code/innovation-lab/notebooks/images.csv\", 'a') as f:\n",
    "        writer = csv.writer(f)\n",
    "        writer.writerow(value)"
   ]
  },
  {
   "cell_type": "code",
   "execution_count": null,
   "id": "dedef75a-a32c-4ae1-b437-57a9b00d4561",
   "metadata": {
    "editable": true,
    "slideshow": {
     "slide_type": ""
    },
    "tags": []
   },
   "outputs": [],
   "source": []
  },
  {
   "cell_type": "code",
   "execution_count": null,
   "id": "bebc11eb-f5ff-489f-8559-69188ddf0260",
   "metadata": {},
   "outputs": [],
   "source": []
  }
 ],
 "metadata": {
  "kernelspec": {
   "display_name": "Python 3 (ipykernel)",
   "language": "python",
   "name": "python3"
  },
  "language_info": {
   "codemirror_mode": {
    "name": "ipython",
    "version": 3
   },
   "file_extension": ".py",
   "mimetype": "text/x-python",
   "name": "python",
   "nbconvert_exporter": "python",
   "pygments_lexer": "ipython3",
   "version": "3.12.4"
  }
 },
 "nbformat": 4,
 "nbformat_minor": 5
}
